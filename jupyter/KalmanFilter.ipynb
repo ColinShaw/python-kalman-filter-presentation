{
 "cells": [
  {
   "cell_type": "markdown",
   "metadata": {},
   "source": [
    "# Kalman Filter Example\n",
    "\n",
    "The below code is a simple example that will generate a series of prediction points."
   ]
  },
  {
   "cell_type": "code",
   "execution_count": null,
   "metadata": {
    "collapsed": false
   },
   "outputs": [],
   "source": [
    "'''\n",
    "\n",
    "Prediction:\n",
    "  x' = F x + v       v is process noise\n",
    "  P' = F P F(T)\n",
    "\n",
    "Measurement:\n",
    "  y = Z - H x\n",
    "  S = H P H(T) + R\n",
    "  K = P H(T) S(-1)\n",
    "  x' = x + K y\n",
    "  P' = (I - K H) P\n",
    "\n",
    "'''\n",
    "\n",
    "def kalman_filter(x, P):\n",
    "    for n in range(len(measurements)):\n",
    "        \n",
    "        # Measurement:\n",
    "        Z = matrix([[measurements[n]]])\n",
    "        y = Z - H * x\n",
    "        S = H * P * H.transpose() + R \n",
    "        K = P * H.transpose() * S.inverse()\n",
    "        x = x + K * y\n",
    "        P = (I - K * H) * P\n",
    "        \n",
    "        # Prediction\n",
    "        x = F * x + u\n",
    "        P = F * P * F.transpose()\n",
    "        \n",
    "    return x,P\n",
    "\n",
    "x = matrix([[0.], [0.]]) # initial state (location and velocity)\n",
    "P = matrix([[1000., 0.], [0., 1000.]]) # initial uncertainty\n",
    "u = matrix([[0.], [0.]]) # external motion\n",
    "F = matrix([[1., 1.], [0, 1.]]) # next state function\n",
    "H = matrix([[1., 0.]]) # measurement function\n",
    "R = matrix([[1.]]) # measurement uncertainty\n",
    "I = matrix([[1., 0.], [0., 1.]]) # identity matrix\n",
    "\n",
    "measurements = [1, 2, 3]\n",
    "\n",
    "kf = kalman_filter(x, P)\n",
    "print(kf)\n",
    "\n",
    "# output should be:\n",
    "# x: [[3.9996664447958645], [0.9999998335552873]]\n",
    "# P: [[2.3318904241194827, 0.9991676099921091], [0.9991676099921067, 0.49950058263974184]]\n"
   ]
  },
  {
   "cell_type": "code",
   "execution_count": null,
   "metadata": {
    "collapsed": true
   },
   "outputs": [],
   "source": []
  }
 ],
 "metadata": {
  "anaconda-cloud": {},
  "kernelspec": {
   "display_name": "Python [conda root]",
   "language": "python",
   "name": "conda-root-py"
  },
  "language_info": {
   "codemirror_mode": {
    "name": "ipython",
    "version": 3
   },
   "file_extension": ".py",
   "mimetype": "text/x-python",
   "name": "python",
   "nbconvert_exporter": "python",
   "pygments_lexer": "ipython3",
   "version": "3.5.2"
  }
 },
 "nbformat": 4,
 "nbformat_minor": 2
}
