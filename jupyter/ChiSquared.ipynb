{
 "cells": [
  {
   "cell_type": "markdown",
   "metadata": {},
   "source": [
    "# Chi Squared\n",
    "\n",
    "This is a quick notebook to demonstrate that pointwise squaring of a Gaussian is the same distribution you would get if you invoked a Chi squared method in some library.  The reason for phrasing it like this is that `numpy` and other tools often simply draw from independent Gaussians, one for each degree of freedom, and sum them.  That said, the arithmetic we are doing is virtually identical to the arithmetic done by the library.  After this is demonstrated, we will look briefly at finding numerical approximations to the normal Chi squared tables using the cumulative distribution."
   ]
  },
  {
   "cell_type": "markdown",
   "metadata": {},
   "source": [
    "First we will plot the simple Gaussian."
   ]
  },
  {
   "cell_type": "code",
   "execution_count": 12,
   "metadata": {
    "collapsed": false
   },
   "outputs": [
    {
     "data": {
      "image/png": "[encoded data removed]",
      "text/plain": [
       "<matplotlib.figure.Figure at 0x7fd199f67a90>"
      ]
     },
     "metadata": {},
     "output_type": "display_data"
    }
   ],
   "source": [
    "import math\n",
    "import numpy as np\n",
    "import matplotlib.pyplot as plt\n",
    "%matplotlib inline\n",
    "\n",
    "g = [np.random.normal(0, 1) for x in range(10000)]\n",
    "plt.hist(g, 200, range=(-5,5), normed=True, facecolor='green', alpha=0.2, histtype='stepfilled')\n",
    "\n",
    "plt.show()"
   ]
  },
  {
   "cell_type": "markdown",
   "metadata": {},
   "source": [
    "Next generate the square of these elements.  "
   ]
  },
  {
   "cell_type": "code",
   "execution_count": 13,
   "metadata": {
    "collapsed": false
   },
   "outputs": [
    {
     "data": {
      "image/png": "[encoded data removed]",
      "text/plain": [
       "<matplotlib.figure.Figure at 0x7fd199d224e0>"
      ]
     },
     "metadata": {},
     "output_type": "display_data"
    }
   ],
   "source": [
    "# Generate the base Gaussian\n",
    "g = [np.random.normal(0, 1) for x in range(10000)]\n",
    "\n",
    "# Generate the square of each element\n",
    "c = [x**2 for x in g]\n",
    "plt.hist(c, 200, range=(-5,5), normed=True, facecolor='red', alpha=0.2, histtype='stepfilled')\n",
    "\n",
    "plt.show()"
   ]
  },
  {
   "cell_type": "markdown",
   "metadata": {},
   "source": [
    "Next we can prove for ourselves that the Chi squared library method generates a distribution that is immaterially different than what we generated."
   ]
  },
  {
   "cell_type": "code",
   "execution_count": 11,
   "metadata": {
    "collapsed": false
   },
   "outputs": [
    {
     "data": {
      "image/png": "[encoded data removed]",
      "text/plain": [
       "<matplotlib.figure.Figure at 0x7fd199df1390>"
      ]
     },
     "metadata": {},
     "output_type": "display_data"
    }
   ],
   "source": [
    "# Generate Chi squared based on library function\n",
    "c = [np.random.chisquare(1) for x in range(10000)]\n",
    "plt.hist(c, 200, range=(-5,5), normed=True, facecolor='red', alpha=0.2, histtype='stepfilled')\n",
    "\n",
    "plt.show()"
   ]
  },
  {
   "cell_type": "markdown",
   "metadata": {},
   "source": [
    "In order to estimate values like what one would find in a Chi squared table, we can simply generate a numerical (as opposed to graphical) histogram, convert this to a cumulative distribution and then directly identify estimated values."
   ]
  },
  {
   "cell_type": "code",
   "execution_count": 17,
   "metadata": {
    "collapsed": false
   },
   "outputs": [
    {
     "data": {
      "image/png": "[encoded data removed]",
      "text/plain": [
       "<matplotlib.figure.Figure at 0x7fd199cb9828>"
      ]
     },
     "metadata": {},
     "output_type": "display_data"
    }
   ],
   "source": [
    "# Generate Chi squared based on library function\n",
    "c = [np.random.chisquare(1) for x in range(10000)]\n",
    "\n",
    "# Generate the values and edges of a histogram\n",
    "v, e = np.histogram(c, bins=1000, range=(0,10), density=True)\n",
    "\n",
    "# Generate cumulative sum of the values\n",
    "v = np.cumsum(v)\n",
    "\n",
    "# Generate support set from the edges (to plot)\n",
    "sup = [(e[i] + e[i+1]) / 2 for i in range(len(e)-1)]\n",
    "\n",
    "# Plot the CDF\n",
    "plt.plot(sup, v, color='green', alpha=0.5)  \n",
    "plt.show()\n"
   ]
  },
  {
   "cell_type": "markdown",
   "metadata": {},
   "source": [
    "Another options is zip the list and then filter the values near what you are looking for and see the list contents."
   ]
  },
  {
   "cell_type": "code",
   "execution_count": 43,
   "metadata": {
    "collapsed": false
   },
   "outputs": [
    {
     "name": "stdout",
     "output_type": "stream",
     "text": [
      "(3.7650000000000001, 0.94911568686761472)\n",
      "(3.7750000000000004, 0.94941817023603747)\n",
      "(3.7850000000000001, 0.94971063759888319)\n",
      "(3.7949999999999999, 0.95004617378570988)\n",
      "(3.8050000000000002, 0.95037069236640181)\n",
      "(3.8150000000000004, 0.95068920134374768)\n"
     ]
    }
   ],
   "source": [
    "# Generate Chi squared based on library function\n",
    "c = [np.random.chisquare(1) for x in range(1000000)]\n",
    "\n",
    "# Generate the values and edges of a histogram\n",
    "v, e = np.histogram(c, bins=1000, range=(0,10), density=True)\n",
    "\n",
    "# Generate cumulative sum of the values\n",
    "v = np.cumsum(v) / 100\n",
    "\n",
    "# Generate support set from the edges (to plot)\n",
    "sup = [(e[i] + e[i+1]) / 2 for i in range(len(e)-1)]\n",
    "\n",
    "# Zip the lists and print them\n",
    "l = zip(sup, v)\n",
    "    \n",
    "# Fetch values within a small tolerance of what you might be looking for\n",
    "val = 0.95\n",
    "tol = 0.001\n",
    "res = []\n",
    "for x in l:\n",
    "    if (math.fabs(x[1] - val) < tol):\n",
    "        print(x)\n"
   ]
  },
  {
   "cell_type": "markdown",
   "metadata": {},
   "source": [
    "Below is an image from a standard Chi squared table.  You will not that we are a little off (table value for the 5% tail and one DOF is 3.841), which could be attributed to insufficient sampled data, insifficient range in our histogram, a baseline Gaussian that is not entirely independently distributed, etc.\n",
    "\n",
    "<img src=\"../images/ChiSquare.jpg\">"
   ]
  },
  {
   "cell_type": "code",
   "execution_count": null,
   "metadata": {
    "collapsed": true
   },
   "outputs": [],
   "source": []
  }
 ],
 "metadata": {
  "anaconda-cloud": {},
  "kernelspec": {
   "display_name": "Python [conda root]",
   "language": "python",
   "name": "conda-root-py"
  },
  "language_info": {
   "codemirror_mode": {
    "name": "ipython",
    "version": 3
   },
   "file_extension": ".py",
   "mimetype": "text/x-python",
   "name": "python",
   "nbconvert_exporter": "python",
   "pygments_lexer": "ipython3",
   "version": "3.5.2"
  }
 },
 "nbformat": 4,
 "nbformat_minor": 2
}
