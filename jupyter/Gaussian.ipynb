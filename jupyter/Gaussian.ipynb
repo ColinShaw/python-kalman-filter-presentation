{
 "cells": [
  {
   "cell_type": "markdown",
   "metadata": {},
   "source": [
    "# Gaussians Arithmetic\n",
    "\n",
    "This is a presentation for Computer Science Club having to do with Kalman filters.  "
   ]
  },
  {
   "cell_type": "markdown",
   "metadata": {},
   "source": [
    "## Basic Gaussian Generation And Plotting "
   ]
  },
  {
   "cell_type": "code",
   "execution_count": 3,
   "metadata": {
    "collapsed": false
   },
   "outputs": [],
   "source": [
    "import csv\n",
    "import numpy as np\n",
    "import matplotlib.pyplot as plt\n",
    "%matplotlib inline\n",
    "\n",
    "\n",
    "class Plot:\n",
    "    def __init__(self, range=(-20,20)):\n",
    "        self.range = range \n",
    "    \n",
    "    def hist(self, data, color):\n",
    "        plt.hist(data, 200, range=self.range, normed=1, facecolor=color, alpha=0.5, histtype='stepfilled')\n",
    "\n",
    "    def show(self):\n",
    "        plt.show() \n",
    "        \n",
    "        \n",
    "class Gaussian:\n",
    "    def generate(self, params, samples=2000):\n",
    "        self.data = []\n",
    "        for i in range(samples):\n",
    "            self.data.append(np.random.normal(params[0], params[1]))\n",
    "     \n",
    "    def plot_hist(self, plot, color='green'):\n",
    "        plot.hist(self.data, color)\n"
   ]
  },
  {
   "cell_type": "markdown",
   "metadata": {},
   "source": [
    "### Plotting A Single Gaussian"
   ]
  },
  {
   "cell_type": "code",
   "execution_count": 4,
   "metadata": {
    "collapsed": false
   },
   "outputs": [
    {
     "data": {
      "image/png": "[encoded data removed]",
      "text/plain": [
       "<matplotlib.figure.Figure at 0x7f9e241e3588>"
      ]
     },
     "metadata": {},
     "output_type": "display_data"
    }
   ],
   "source": [
    "p = Plot()\n",
    "    \n",
    "g1 = Gaussian()\n",
    "g1.generate((0.0, 1.0))\n",
    "g1.plot_hist(p)\n",
    "\n",
    "p.show() "
   ]
  },
  {
   "cell_type": "markdown",
   "metadata": {},
   "source": [
    "### Plotting Multiple Gaussians"
   ]
  },
  {
   "cell_type": "code",
   "execution_count": 5,
   "metadata": {
    "collapsed": false
   },
   "outputs": [
    {
     "data": {
      "image/png": "[encoded data removed]",
      "text/plain": [
       "<matplotlib.figure.Figure at 0x7f9e241e34e0>"
      ]
     },
     "metadata": {},
     "output_type": "display_data"
    }
   ],
   "source": [
    "p = Plot()\n",
    "    \n",
    "g1 = Gaussian()\n",
    "g1.generate((-5.0, 2.0))\n",
    "g1.plot_hist(p, 'green')\n",
    "\n",
    "g2 = Gaussian()\n",
    "g2.generate((5, 0.5))\n",
    "g2.plot_hist(p, 'red')\n",
    "\n",
    "p.show() "
   ]
  },
  {
   "cell_type": "markdown",
   "metadata": {},
   "source": [
    "## Computing With Gaussian Distributions"
   ]
  },
  {
   "cell_type": "code",
   "execution_count": 28,
   "metadata": {
    "collapsed": false
   },
   "outputs": [],
   "source": [
    "class Compute:\n",
    "    def predict(self, dist1, dist2):\n",
    "        mean = dist1[0] + dist2[0]\n",
    "        std = dist1[1] + dist2[1]\n",
    "        self.dist = (mean, std)\n",
    "        \n",
    "    def measure(self, dist1, dist2):\n",
    "        mean = (dist1[0] * dist2[1] + dist1[1] * dist2[0]) / (dist1[1] + dist2[1])\n",
    "        std = 1.0 / (1.0 / dist1[1] + 1.0 / dist2[1])\n",
    "        self.dist = (mean, std)\n",
    "   "
   ]
  },
  {
   "cell_type": "markdown",
   "metadata": {
    "collapsed": true
   },
   "source": [
    "### Prediction Step"
   ]
  },
  {
   "cell_type": "code",
   "execution_count": 29,
   "metadata": {
    "collapsed": false
   },
   "outputs": [
    {
     "data": {
      "image/png": "[encoded data removed]",
      "text/plain": [
       "<matplotlib.figure.Figure at 0x7f9dfcdccc50>"
      ]
     },
     "metadata": {},
     "output_type": "display_data"
    }
   ],
   "source": [
    "measurement = (-5.0, 2.0)\n",
    "prediction = (5, 0.5)\n",
    "\n",
    "c = Compute()\n",
    "c.predict(measurement, prediction)\n",
    "\n",
    "p = Plot()\n",
    "\n",
    "g = Gaussian()\n",
    "g.generate(c.dist)\n",
    "g.plot_hist(p)\n",
    "\n",
    "p.show() "
   ]
  },
  {
   "cell_type": "markdown",
   "metadata": {},
   "source": [
    "### Measurement Step"
   ]
  },
  {
   "cell_type": "code",
   "execution_count": 30,
   "metadata": {
    "collapsed": false
   },
   "outputs": [
    {
     "data": {
      "image/png": "[encoded data removed]",
      "text/plain": [
       "<matplotlib.figure.Figure at 0x7f9dfcfd3208>"
      ]
     },
     "metadata": {},
     "output_type": "display_data"
    }
   ],
   "source": [
    "prior = (-5.0, 2.0)\n",
    "measurement = (5, 0.5)\n",
    "\n",
    "c = Compute()\n",
    "c.measure(prior, measurement)\n",
    "\n",
    "p = Plot()\n",
    "\n",
    "g = Gaussian()\n",
    "g.generate(c.dist)\n",
    "g.plot_hist(p)\n",
    "\n",
    "p.show() "
   ]
  },
  {
   "cell_type": "code",
   "execution_count": null,
   "metadata": {
    "collapsed": true
   },
   "outputs": [],
   "source": []
  }
 ],
 "metadata": {
  "anaconda-cloud": {},
  "kernelspec": {
   "display_name": "Python 3",
   "language": "python",
   "name": "python3"
  },
  "language_info": {
   "codemirror_mode": {
    "name": "ipython",
    "version": 3
   },
   "file_extension": ".py",
   "mimetype": "text/x-python",
   "name": "python",
   "nbconvert_exporter": "python",
   "pygments_lexer": "ipython3",
   "version": "3.5.2"
  }
 },
 "nbformat": 4,
 "nbformat_minor": 1
}
